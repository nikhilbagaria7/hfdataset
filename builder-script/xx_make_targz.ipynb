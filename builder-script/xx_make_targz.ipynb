{
 "cells": [
  {
   "cell_type": "markdown",
   "metadata": {},
   "source": [
    "# Creating a Compressed File for Demo\n",
    "\n",
    "This notebook shows how to create compressed tar.gz file that we can later use to test loading remote compressed files in HF dataset builder scripts."
   ]
  },
  {
   "cell_type": "code",
   "execution_count": 1,
   "metadata": {},
   "outputs": [
    {
     "name": "stderr",
     "output_type": "stream",
     "text": [
      "c:\\Users\\Nikhil Bagaria\\AppData\\Local\\Programs\\Python\\Python311\\Lib\\site-packages\\tqdm\\auto.py:21: TqdmWarning: IProgress not found. Please update jupyter and ipywidgets. See https://ipywidgets.readthedocs.io/en/stable/user_install.html\n",
      "  from .autonotebook import tqdm as notebook_tqdm\n",
      "Downloading data: 100%|██████████| 172k/172k [00:00<00:00, 198kB/s]\n",
      "Downloading data files: 100%|██████████| 1/1 [00:00<00:00,  1.15it/s]\n",
      "Extracting data files: 100%|██████████| 1/1 [00:00<?, ?it/s]\n",
      "Generating train split: 63 examples [00:00, 2319.31 examples/s]\n"
     ]
    },
    {
     "data": {
      "text/plain": [
       "Dataset({\n",
       "    features: ['text'],\n",
       "    num_rows: 63\n",
       "})"
      ]
     },
     "execution_count": 1,
     "metadata": {},
     "output_type": "execute_result"
    }
   ],
   "source": [
    "from datasets import load_dataset\n",
    "\n",
    "dataset = load_dataset(\"Nikhil-trustt/apicode\", split=\"train\")\n",
    "dataset"
   ]
  },
  {
   "cell_type": "code",
   "execution_count": 2,
   "metadata": {},
   "outputs": [
    {
     "data": {
      "text/html": [
       "<div>\n",
       "<style scoped>\n",
       "    .dataframe tbody tr th:only-of-type {\n",
       "        vertical-align: middle;\n",
       "    }\n",
       "\n",
       "    .dataframe tbody tr th {\n",
       "        vertical-align: top;\n",
       "    }\n",
       "\n",
       "    .dataframe thead th {\n",
       "        text-align: right;\n",
       "    }\n",
       "</style>\n",
       "<table border=\"1\" class=\"dataframe\">\n",
       "  <thead>\n",
       "    <tr style=\"text-align: right;\">\n",
       "      <th></th>\n",
       "      <th>text</th>\n",
       "    </tr>\n",
       "  </thead>\n",
       "  <tbody>\n",
       "    <tr>\n",
       "      <th>0</th>\n",
       "      <td>&lt;s&gt;[INST] getEncryptionKey This endpoint fetch...</td>\n",
       "    </tr>\n",
       "    <tr>\n",
       "      <th>1</th>\n",
       "      <td>&lt;s&gt;[INST] createOrUpdateOffice This endpoint c...</td>\n",
       "    </tr>\n",
       "    <tr>\n",
       "      <th>2</th>\n",
       "      <td>&lt;s&gt;[INST] getOfficeList This endpoint is used ...</td>\n",
       "    </tr>\n",
       "    <tr>\n",
       "      <th>3</th>\n",
       "      <td>&lt;s&gt;[INST] getOfficeDetails This endpoint is us...</td>\n",
       "    </tr>\n",
       "    <tr>\n",
       "      <th>4</th>\n",
       "      <td>&lt;s&gt;[INST] deleteOffice This endpoint is used t...</td>\n",
       "    </tr>\n",
       "  </tbody>\n",
       "</table>\n",
       "</div>"
      ],
      "text/plain": [
       "                                                text\n",
       "0  <s>[INST] getEncryptionKey This endpoint fetch...\n",
       "1  <s>[INST] createOrUpdateOffice This endpoint c...\n",
       "2  <s>[INST] getOfficeList This endpoint is used ...\n",
       "3  <s>[INST] getOfficeDetails This endpoint is us...\n",
       "4  <s>[INST] deleteOffice This endpoint is used t..."
      ]
     },
     "execution_count": 2,
     "metadata": {},
     "output_type": "execute_result"
    }
   ],
   "source": [
    "dataset = dataset.to_pandas()\n",
    "dataset.head()"
   ]
  },
  {
   "cell_type": "code",
   "execution_count": 3,
   "metadata": {},
   "outputs": [
    {
     "data": {
      "text/plain": [
       "{'text': '<s>[INST] getOfficeList This endpoint is used to fetch list and search of Price Codes. [/INST] {\\n    \"headers\": {\\n        \"tenant_code\": \"novopay\",\\n        \"client_code\": \"NOVOPAY\",\\n        \"channel_code\": \"NOVOPAY\",\\n        \"end_channel_code\": \"AIG\",\\n        \"stan\": \"12345\",\\n        \"client_ip\": \"127.0.0.1\",\\n        \"transmission_datetime\": \"1488779072701\",\\n        \"operation_mode\": \"SELF\",\\n        \"run_mode\": \"TRIAL\",\\n        \"retry_count\": \"0\",\\n        \"actor_type\": \"CUSTOMER\",\\n        \"user_handle_type\": \"MSISDN\",\\n        \"user_handle_value\": \"9816923672\",\\n        \"location\": \"44.968046,-94.420307\",\\n        \"function_code\": \"DEFAULT\",\\n        \"function_sub_code\": \"DEFAULT\"\\n    },\\n    \"request\": {\\n        \"search_criteria\": {},\\n        \"sort_criteria\": {},\\n        \"page_size\": \"10\",\\n        \"offset\": \"0\"\\n    }\\n} {\\n    \"offset\": \"0\",\\n    \"response_status\": {\\n        \"code\": \"40029\",\\n        \"message\": \"Office List fetched Successfully\",\\n        \"status\": \"SUCCESS\"\\n    },\\n    \"number_of_records\": 5,\\n    \"office_list\": [{\\n            \"address_details\": [],\\n            \"contact_details\": {},\\n            \"attributes\": [],\\n            \"office_details\": {\\n                \"office_level\": \"OFF_LVL_001\",\\n                \"office_level_value\": \"Head Office\",\\n                \"corporate_id\": \"1\",\\n                \"office_code\": \"OFC001\",\\n                \"name\": \"Zonal Head Office\",\\n                \"id\": \"1\"\\n            }\\n        },\\n        {\\n            \"address_details\": [{\\n                \"id\": \"18\",\\n                \"type\": \"ADD_TYP_004\",\\n                \"type_value\": \"Office\",\\n                \"address_line_1\": \"Novopay Solution\",\\n                \"address_line_2\": null,\\n                \"locality\": null,\\n                \"landmark\": null,\\n                \"geo_hierarchy_element_id\": \"5\",\\n                \"pincode\": \"560102\",\\n                \"geocoded_lat_long\": \"1\"\\n            }],\\n            \"contact_details\": {\\n                \"id\": \"3\",\\n                \"name\": \"Vishal Goel\",\\n                \"mobile_number\": \"9816923672\",\\n                \"mobile_country_code\": \"+91\",\\n                \"alternate_contact_number\": null,\\n                \"alternate_contact_country_code\": null,\\n                \"primary_email\": null,\\n                \"alternate_email\": null,\\n                \"landline\": null,\\n                \"landline_country_code\": null,\\n                \"fax\": null,\\n                \"fax_country_code\": null\\n            },\\n            \"attributes\": [{\\n                \"id\": \"2\",\\n                \"key\": \"testKey\",\\n                \"value\": \"testValue\"\\n            }],\\n            \"office_details\": {\\n                \"parent_name\": \"Zonal Head Office\",\\n                \"office_level\": \"OFF_LVL_002\",\\n                \"office_level_value\": \"Regional Office\",\\n                \"parent_id\": \"1\",\\n                \"corporate_id\": \"1\",\\n                \"office_code\": \"OFC003\",\\n                \"name\": \"South Zone Regional Office\",\\n                \"parent_code\": \"OFC001\",\\n                \"id\": \"4\"\\n            }\\n        },\\n        {\\n            \"address_details\": [{\\n                \"id\": \"19\",\\n                \"type\": \"ADD_TYP_004\",\\n                \"type_value\": \"Office\",\\n                \"address_line_1\": \"near hypermart\",\\n                \"address_line_2\": \"2nd floor\",\\n                \"locality\": \"Bangalore\",\\n                \"landmark\": \"Bellanduru\",\\n                \"geo_hierarchy_element_id\": \"5\",\\n                \"pincode\": \"560102\",\\n                \"geocoded_lat_long\": \"1\"\\n            }],\\n            \"contact_details\": {\\n                \"id\": \"4\",\\n                \"name\": \"V34\",\\n                \"mobile_number\": \"7899044921\",\\n                \"mobile_country_code\": \"IN\",\\n                \"alternate_contact_number\": null,\\n                \"alternate_contact_country_code\": null,\\n                \"primary_email\": \"santhoshi@novopay.in\",\\n                \"alternate_email\": null,\\n                \"landline\": null,\\n                \"landline_country_code\": null,\\n                \"fax\": null,\\n                \"fax_country_code\": null\\n            },\\n            \"attributes\": [{\\n                \"id\": \"3\",\\n                \"key\": \"testKey\",\\n                \"value\": \"testKey\"\\n            }],\\n            \"office_details\": {\\n                \"parent_name\": \"Zonal Head Office\",\\n                \"office_level\": \"OFF_LVL_001\",\\n                \"office_level_value\": \"Head Office\",\\n                \"parent_id\": \"1\",\\n                \"corporate_id\": \"2\",\\n                \"office_code\": \"QQE134\",\\n                \"name\": \"North Zonal Office central\",\\n                \"parent_code\": \"OFC001\",\\n                \"id\": \"5\",\\n                \"external_code\": \"434533\"\\n            }\\n        },\\n        {\\n            \"address_details\": [{\\n                \"id\": \"20\",\\n                \"type\": \"ADD_TYP_004\",\\n                \"type_value\": \"Office\",\\n                \"address_line_1\": \"Novopay Solution\",\\n                \"address_line_2\": null,\\n                \"locality\": null,\\n                \"landmark\": null,\\n                \"geo_hierarchy_element_id\": \"5\",\\n                \"pincode\": \"560102\",\\n                \"geocoded_lat_long\": \"1.34234,23.3242\"\\n            }],\\n            \"contact_details\": {\\n                \"id\": \"5\",\\n                \"name\": \"Vishal Goel\",\\n                \"mobile_number\": \"9816923672\",\\n                \"mobile_country_code\": \"+91\",\\n                \"alternate_contact_number\": null,\\n                \"alternate_contact_country_code\": null,\\n                \"primary_email\": \"vishalgoel003@gmail.com\",\\n                \"alternate_email\": \"vishal_goel@gmail.com\",\\n                \"landline\": null,\\n                \"landline_country_code\": null,\\n                \"fax\": null,\\n                \"fax_country_code\": null\\n            },\\n            \"attributes\": [{\\n                \"id\": \"4\",\\n                \"key\": \"testKey\",\\n                \"value\": \"testValue\"\\n            }],\\n            \"office_details\": {\\n                \"parent_name\": \"Zonal Head Office\",\\n                \"office_level\": \"OFF_LVL_002\",\\n                \"office_level_value\": \"Regional Office\",\\n                \"parent_id\": \"1\",\\n                \"corporate_id\": \"1\",\\n                \"office_code\": \"OFC005\",\\n                \"name\": \"BlaBla Zone Regional Office\",\\n                \"parent_code\": \"OFC001\",\\n                \"id\": \"6\"\\n            }\\n        },\\n        {\\n            \"address_details\": [{\\n                \"id\": \"28\",\\n                \"type\": \"ADD_TYP_004\",\\n                \"type_value\": \"Office\",\\n                \"address_line_1\": \"Novopay Solution\",\\n                \"address_line_2\": null,\\n                \"locality\": null,\\n                \"landmark\": null,\\n                \"geo_hierarchy_element_id\": \"5\",\\n                \"pincode\": \"560102\",\\n                \"geocoded_lat_long\": \"1.32424,4.4543\"\\n            }],\\n            \"contact_details\": {\\n                \"id\": \"12\",\\n                \"name\": \"Vishal Goel\",\\n                \"mobile_number\": null,\\n                \"mobile_country_code\": null,\\n                \"alternate_contact_number\": null,\\n                \"alternate_contact_country_code\": null,\\n                \"primary_email\": \"vishalgoel003@gmail.com\",\\n                \"alternate_email\": null,\\n                \"landline\": null,\\n                \"landline_country_code\": null,\\n                \"fax\": null,\\n                \"fax_country_code\": null\\n            },\\n            \"attributes\": [],\\n            \"office_details\": {\\n                \"parent_name\": \"Zonal Head Office\",\\n                \"office_level\": \"OFF_LVL_002\",\\n                \"office_level_value\": \"Regional Office\",\\n                \"parent_id\": \"1\",\\n                \"corporate_id\": \"1\",\\n                \"office_code\": \"OFC006\",\\n                \"name\": \"South Zone Regional Office\",\\n                \"parent_code\": \"OFC001\",\\n                \"id\": \"7\"\\n            }\\n        }\\n    ],\\n    \"page_size\": 5\\n} </s>'}"
      ]
     },
     "execution_count": 3,
     "metadata": {},
     "output_type": "execute_result"
    }
   ],
   "source": [
    "dataset = dataset.to_dict(orient='records')\n",
    "dataset[2]"
   ]
  },
  {
   "cell_type": "code",
   "execution_count": 4,
   "metadata": {},
   "outputs": [],
   "source": [
    "import json\n",
    "\n",
    "with open('dataset.jsonl', 'w') as fp:\n",
    "    for line in dataset:\n",
    "        fp.write(json.dumps(line)+'\\n')"
   ]
  },
  {
   "cell_type": "markdown",
   "metadata": {},
   "source": [
    "Convert to tar.gz file"
   ]
  },
  {
   "cell_type": "code",
   "execution_count": 5,
   "metadata": {},
   "outputs": [],
   "source": [
    "import tarfile\n",
    "\n",
    "with tarfile.open('dataset.tar.gz', 'w:gz') as tar:\n",
    "    tar.add('dataset.jsonl')"
   ]
  },
  {
   "cell_type": "markdown",
   "metadata": {},
   "source": [
    "We now have the compressed file that we can add to HF datasets."
   ]
  }
 ],
 "metadata": {
  "kernelspec": {
   "display_name": "Python 3.9.12 ('ml')",
   "language": "python",
   "name": "python3"
  },
  "language_info": {
   "codemirror_mode": {
    "name": "ipython",
    "version": 3
   },
   "file_extension": ".py",
   "mimetype": "text/x-python",
   "name": "python",
   "nbconvert_exporter": "python",
   "pygments_lexer": "ipython3",
   "version": "3.11.4"
  },
  "orig_nbformat": 4,
  "vscode": {
   "interpreter": {
    "hash": "b8e7999f96e1b425e2d542f21b571f5a4be3e97158b0b46ea1b2500df63956ce"
   }
  }
 },
 "nbformat": 4,
 "nbformat_minor": 2
}
